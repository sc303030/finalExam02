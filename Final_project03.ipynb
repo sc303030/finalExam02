{
 "cells": [
  {
   "cell_type": "markdown",
   "metadata": {},
   "source": [
    "# 지역구별 비싼 채소 싼 채소"
   ]
  },
  {
   "cell_type": "code",
   "execution_count": null,
   "metadata": {},
   "outputs": [],
   "source": [
    "import pandas as pd\n",
    "import numpy as np\n",
    "import sys\n",
    "import glob\n",
    "\n",
    "# 한글 폰트 문제 해결\n",
    "import platform\n",
    "\n",
    "from matplotlib import font_manager, rc\n",
    "# plt.rcParams['axes.unicode_minus'] = False\n",
    "\n",
    "if platform.system() == 'Darwin':\n",
    "    rc('font', family='AppleGothic')\n",
    "elif platform.system() == 'Windows':\n",
    "    path = \"c:/Windows/Fonts/malgun.ttf\"\n",
    "    font_name = font_manager.FontProperties(fname=path).get_name()\n",
    "    rc('font', family=font_name)\n",
    "else:\n",
    "    print('Unknown system... sorry~~~~') \n"
   ]
  },
  {
   "cell_type": "code",
   "execution_count": null,
   "metadata": {},
   "outputs": [],
   "source": [
    "# 합치는 코드\n",
    "\n",
    "#엑셀 파일 이름 입력\n",
    "\n",
    "excel_names = ['../Downloads/종로구_광장시장_2020.xlsx', '../Downloads/종로구_광장시장_2019.xlsx']\n",
    "\n",
    "names=[]\n",
    "\n",
    "excels = [pd.ExcelFile(name) for name in excel_names]  \n",
    "frames = [x.parse(x.sheet_names[0], header=None,index_col=None) for x in excels]  \n",
    "frames[1:] = [df[1:] for df in frames[1:]]  \n",
    "combined = pd.concat(frames)\n",
    "\n",
    "#파일저장\n",
    "\n",
    "combined.to_excel(\"../Downloads/종로구광장1920.xlsx\", header=False, index=False)"
   ]
  },
  {
   "cell_type": "code",
   "execution_count": null,
   "metadata": {},
   "outputs": [],
   "source": [
    "# 1. 중랑구 동원시장끼리 합치기\n",
    "dongwon = [\n",
    "    '../Downloads/중랑동원시장2017.xlsx',\n",
    "'../Downloads/중랑동원시장2018.xlsx',\n",
    "'../Downloads/중랑동원시장2019.xlsx',\n",
    "'../Downloads/중랑동원시장2020.xlsx'\n",
    "]\n",
    "\n"
   ]
  },
  {
   "cell_type": "code",
   "execution_count": null,
   "metadata": {},
   "outputs": [],
   "source": [
    "# 합치는 코드\n",
    "\n",
    "#엑셀 파일 이름 입력\n",
    "\n",
    "dongwon = [\n",
    "    '../Downloads/중랑동원시장2017.xlsx',\n",
    "'../Downloads/중랑동원시장2018.xlsx',\n",
    "'../Downloads/중랑동원시장2019.xlsx',\n",
    "'../Downloads/중랑동원시장2020.xlsx'\n",
    "]\n",
    "\n",
    "\n",
    "excels = [pd.ExcelFile(name) for name in dongwon]  \n",
    "frames = [x.parse(x.sheet_names[0], header=None,index_col=None) for x in excels]  \n",
    "frames[1:] = [df[1:] for df in frames[1:]]  \n",
    "combined = pd.concat(frames)\n",
    "\n",
    "#파일저장\n",
    "\n",
    "combined.to_excel(\"../Downloads/중랑동원시장4년.xlsx\", header=False, index=False)"
   ]
  },
  {
   "cell_type": "code",
   "execution_count": null,
   "metadata": {},
   "outputs": [],
   "source": [
    "tongin = [\n",
    "'../Downloads/서울전역시장마트데이터.xlsx',\n",
    "'../Downloads/시장마트9개_소연.xlsx'\n",
    "]\n",
    "\n",
    "\n",
    "excels = [pd.ExcelFile(name) for name in tongin]  \n",
    "frames = [x.parse(x.sheet_names[0], header=None,index_col=None) for x in excels]  \n",
    "frames[1:] = [df[1:] for df in frames[1:]]  \n",
    "combined = pd.concat(frames)\n",
    "\n",
    "#파일저장\n",
    "\n",
    "combined.to_excel(\"../Downloads/서울전역시장마트데이터1.xlsx\", header=False, index=False)"
   ]
  },
  {
   "cell_type": "code",
   "execution_count": null,
   "metadata": {},
   "outputs": [],
   "source": [
    "\n",
    "soyeon = pd.read_excel('../Downloads/시장마트9개_소연.xlsx')\n",
    "tonghap = pd.read_excel('../Downloads/서울전역시장마트데이터.xlsx',)\n"
   ]
  },
  {
   "cell_type": "code",
   "execution_count": null,
   "metadata": {},
   "outputs": [],
   "source": [
    "\n",
    "시장가격데이터=pd.concat([soyeon, tonghap],axis=0)\n",
    "\n",
    "\n",
    "시장가격데이터.to_excel('../Downloads/서울전역시장마트데이터2.xlsx',index=False)"
   ]
  },
  {
   "cell_type": "code",
   "execution_count": null,
   "metadata": {},
   "outputs": [],
   "source": [
    "choijong = pd.read_excel('../Downloads/서울전역시장마트데이터(최종1).xlsx',)"
   ]
  },
  {
   "cell_type": "code",
   "execution_count": null,
   "metadata": {},
   "outputs": [],
   "source": []
  },
  {
   "cell_type": "code",
   "execution_count": null,
   "metadata": {},
   "outputs": [],
   "source": [
    "tonghap = pd.read_excel('../Downloads/서울전역시장마트데이터(구분포함,23월포함).xlsx')"
   ]
  },
  {
   "cell_type": "code",
   "execution_count": null,
   "metadata": {},
   "outputs": [],
   "source": [
    "서울전역시장마트데이터 = tonghap\n",
    "서울전역시장마트데이터"
   ]
  },
  {
   "cell_type": "code",
   "execution_count": null,
   "metadata": {},
   "outputs": [],
   "source": [
    "# 특정 컬럼만 뽑아오기\n",
    "강남구시장오이=서울전역시장마트데이터[(서울전역시장마트데이터['품목']=='오이')&(서울전역시장마트데이터['지역구']=='강남구')&(서울전역시장마트데이터['구분']=='시장')]\n",
    "강남구시장오이.head()\n"
   ]
  },
  {
   "cell_type": "code",
   "execution_count": null,
   "metadata": {},
   "outputs": [],
   "source": [
    "#필요없는 열 제거\n",
    "cols = ['단위', '비고', '지역구','장소','구분']\n"
   ]
  },
  {
   "cell_type": "code",
   "execution_count": null,
   "metadata": {},
   "outputs": [],
   "source": [
    "강남구시장오이 = 강남구시장오이.groupby('조사일')['가격'].mean().reset_index()\n",
    "\n",
    "#index를 Order Date로 한다.\n",
    "강남구시장오이 = 강남구시장오이.set_index('조사일')\n"
   ]
  },
  {
   "cell_type": "code",
   "execution_count": null,
   "metadata": {},
   "outputs": [],
   "source": [
    "#MS는인덱스는 해당 월의 마지막 일자로 표시를 시작일로 변경\n",
    "y = 강남구시장오이['가격'].resample('MS').mean()"
   ]
  },
  {
   "cell_type": "code",
   "execution_count": null,
   "metadata": {},
   "outputs": [],
   "source": []
  },
  {
   "cell_type": "code",
   "execution_count": null,
   "metadata": {},
   "outputs": [],
   "source": [
    "def For_product(data1, data2, data3, product) :\n",
    "    cols = ['단위', '비고', '지역구', '장소','구분']\n",
    "    name = ['시장', '마트', '서울']\n",
    "  \n",
    "    test_i = data1[data1['품목']==product]\n",
    "    test_a = test_i.drop(cols, axis=1)\n",
    "#     test_a = test_a.groupby('조사일')['가격'].mean().reset_index()\n",
    "    test_a = test_a.set_index('조사일')\n",
    "    y_test = test_a['가격'].resample('MS').mean()\n",
    "    y_test = y_test['2017' : ]\n",
    "    y = pd.DataFrame(y_test)\n",
    "\n",
    "    test_0_i = data2[data2['품목']==product]\n",
    "    test_0_a = test_0_i.drop(cols, axis=1)\n",
    "#     test_0_a = test_0_a.groupby('조사일')['가격'].mean().reset_index()\n",
    "    test_0_a = test_0_a.set_index('조사일')\n",
    "    x_test = test_0_a['가격'].resample('MS').mean()\n",
    "    x_test=x_test['2017' :]\n",
    "    x = pd.DataFrame(x_test)\n",
    "    \n",
    "    seoul = data3[data3['품목']==product]\n",
    "    seoul = seoul.drop(cols, axis=1)\n",
    "#     seoul = seoul.groupby('조사일')['가격'].mean().reset_index()\n",
    "    seoul = seoul.set_index('조사일')\n",
    "    seoul = seoul['가격'].resample('MS').mean()\n",
    "    seoul = seoul['2017' : ]\n",
    "    z = pd.DataFrame(seoul)\n",
    "\n",
    "    do_merge = y.merge(x,on='조사일').merge(z,on='조사일')\n",
    "    do_merge.columns = name\n",
    "    do_merge = do_merge.reset_index()\n",
    "    return (do_merge, product)\n",
    "\n",
    "\n"
   ]
  },
  {
   "cell_type": "code",
   "execution_count": null,
   "metadata": {},
   "outputs": [],
   "source": [
    "def ForAllProduct(data, district):\n",
    "    test_market = data[(data['지역구']==district)&(data['구분']=='시장')]\n",
    "    test_outlet = data[(data['지역구']==district)&(data['구분']=='마트')]\n",
    "    seoul = data[(data['지역구']==district)]\n",
    "    test_list = test_market['품목'].unique()\n",
    "    print(test_list)\n",
    "\n",
    "    if len(test_list) == 5:\n",
    "        (test01, product1) = For_product(test_market, test_outlet, seoul, test_list[0])\n",
    "        (test02, product2) = For_product(test_market, test_outlet, seoul, test_list[1])\n",
    "        (test03, product3) = For_product(test_market, test_outlet, seoul, test_list[2])\n",
    "        (test04, product4) = For_product(test_market, test_outlet, seoul, test_list[3])\n",
    "        (test05, product5) = For_product(test_market, test_outlet, seoul, test_list[4])\n",
    "        (test06, product6) = (\"There is Only 5 products exist\", \"Nothing\")\n",
    "    elif len(test_list) == 6:\n",
    "        (test01, product1) = For_product(test_market, test_outlet, seoul, test_list[0])\n",
    "        (test02, product2) = For_product(test_market, test_outlet, seoul, test_list[1])\n",
    "        (test03, product3) = For_product(test_market, test_outlet, seoul, test_list[2])\n",
    "        (test04, product4) = For_product(test_market, test_outlet, seoul, test_list[3])\n",
    "        (test05, product5) = For_product(test_market, test_outlet, seoul, test_list[4])\n",
    "        (test06, product6) = For_product(test_market, test_outlet, seoul, test_list[5])\n",
    "        \n",
    "    return test01, test02, test03, test04, test05, test06"
   ]
  },
  {
   "cell_type": "code",
   "execution_count": null,
   "metadata": {},
   "outputs": [],
   "source": [
    "#MS는인덱스는 해당 월의 마지막 일자로 표시를 시작일로 변경\n",
    "x = 금천구_배추['시장'].resample('MS').mean()\n",
    "y = 금천구_배추['마트'].resample('MS').mean()\n",
    "z = 금천구_배추['서울'].resample('MS').mean()"
   ]
  },
  {
   "cell_type": "code",
   "execution_count": null,
   "metadata": {},
   "outputs": [],
   "source": [
    "x.plot(figsize = (15,6))\n",
    "y.plot(figsize = (15,6))\n",
    "z.plot(figsize = (15,6))\n",
    "plt.legend()\n",
    "plt.show()"
   ]
  },
  {
   "cell_type": "code",
   "execution_count": null,
   "metadata": {},
   "outputs": [],
   "source": [
    "강남구_양파, 강남구_무, 강남구_배추, 강남구_상추, 강남구_오이, 강남구_애호박= ForAllProduct(서울전역시장마트데이터, '강남구')\n",
    "강동구_상추, 강동구_배추, 강동구_무, 강동구_양파, 강동구_오이, 강동구_애호박= ForAllProduct(서울전역시장마트데이터, '강동구')\n",
    "광진구_양파, 광진구_배추, 광진구_무, 광진구_상추, 광진구_오이, 광진구_애호박= ForAllProduct(서울전역시장마트데이터, '광진구')\n",
    "마포구_배추, 마포구_무, 마포구_양파, 마포구_상추, 마포구_오이, 마포구_애호박= ForAllProduct(서울전역시장마트데이터, '마포구')\n",
    "성동구_무, 성동구_배추, 성동구_양파, 성동구_상추, 성동구_오이, 성동구_애호박= ForAllProduct(서울전역시장마트데이터, '성동구')\n",
    "송파구_무, 송파구_배추, 송파구_양파, 송파구_상추, 송파구_오이, 송파구_애호박_x= ForAllProduct(서울전역시장마트데이터, '송파구')\n",
    "용산구_상추, 용산구_배추, 용산구_무, 용산구_양파, 용산구_오이, 용산구_애호박= ForAllProduct(서울전역시장마트데이터, '용산구')\n",
    "중구_무, 중구_배추, 중구_양파, 중구_상추, 중구_오이, 중구_애호박_x= ForAllProduct(서울전역시장마트데이터, '중구')\n",
    "강서구_배추, 강서구_무, 강서구_양파, 강서구_상추, 강서구_오이, 강서구_애호박_x= ForAllProduct(서울전역시장마트데이터, '강서구')\n",
    "관악구_배추, 관악구_무, 관악구_양파, 관악구_상추, 관악구_오이, 관악구_애호박= ForAllProduct(서울전역시장마트데이터, '관악구')\n",
    "구로구_상추, 구로구_배추, 구로구_무, 구로구_양파, 구로구_오이, 구로구_애호박= ForAllProduct(서울전역시장마트데이터, '구로구')\n",
    "금천구_배추, 금천구_무, 금천구_양파, 금천구_상추, 금천구_오이, 금천구_애호박_x= ForAllProduct(서울전역시장마트데이터, '금천구')\n",
    "동작구_상추, 동작구_배추, 동작구_양파, 동작구_무, 동작구_오이, 동작구_애호박= ForAllProduct(서울전역시장마트데이터, '동작구')\n",
    "서초구_상추, 서초구_무, 서초구_배추, 서초구_양파, 서초구_오이, 서초구_애호박= ForAllProduct(서울전역시장마트데이터, '서초구')\n",
    "양천구_오이, 양천구_배추, 양천구_무, 양천구_양파, 양천구_상추, 양천구_애호박= ForAllProduct(서울전역시장마트데이터, '양천구')\n",
    "영등포구_상추, 영등포구_배추, 영등포구_양파, 영등포구_무, 영등포구_오이, 영등포구_애호박= ForAllProduct(서울전역시장마트데이터, '영등포구')\n",
    "동대문구_양파, 동대문구_배추, 동대문구_무, 동대문구_상추, 동대문구_오이, 동대문구_애호박= ForAllProduct(서울전역시장마트데이터, '동대문구')\n",
    "중랑구_배추, 중랑구_무, 중랑구_양파, 중랑구_오이, 중랑구_상추, 중랑구_애호박_x = ForAllProduct(서울전역시장마트데이터, '중랑구')\n",
    "성북구_무, 성북구_배추, 성북구_양파, 성북구_상추, 성북구_오이, 성북구_애호박= ForAllProduct(서울전역시장마트데이터, '성북구')\n",
    "종로구_배추, 종로구_무, 종로구_양파, 종로구_상추, 종로구_오이, 종로구_애호박= ForAllProduct(서울전역시장마트데이터, '종로구')\n",
    "서대문구_배추, 서대문구_오이, 서대문구_양파, 서대문구_상추, 서대문구_무, 서대문구_애호박= ForAllProduct(서울전역시장마트데이터, '서대문구')\n",
    "은평구_상추, 은평구_양파, 은평구_배추, 은평구_무, 은평구_오이, 은평구_애호박= ForAllProduct(서울전역시장마트데이터, '은평구')\n",
    "강북구_오이, 강북구_상추, 강북구_애호박, 강북구_무, 강북구_배추, 강북구_양파= ForAllProduct(서울전역시장마트데이터, '강북구')\n",
    "도봉구_배추, 도봉구_무, 도봉구_양파, 도봉구_상추, 도봉구_오이, 도봉구_애호박= ForAllProduct(서울전역시장마트데이터, '도봉구')\n",
    "노원구_상추, 노원구_배추, 노원구_무, 노원구_양파, 노원구_오이, 노원구_애호박= ForAllProduct(서울전역시장마트데이터, '노원구')"
   ]
  },
  {
   "cell_type": "code",
   "execution_count": null,
   "metadata": {},
   "outputs": [],
   "source": [
    "강남구_양파\n",
    "\n",
    "x_y \n",
    "\n",
    "(강남구)_(양파)\n",
    "\n"
   ]
  },
  {
   "cell_type": "markdown",
   "metadata": {},
   "source": [
    "# {} 구 보다 {}가 싼 지역, 비싼 지역"
   ]
  },
  {
   "cell_type": "code",
   "execution_count": null,
   "metadata": {},
   "outputs": [],
   "source": [
    "chaeso_mu = chaeso.drop([25]).sort_values('무', ascending=True)\n",
    "chaeso"
   ]
  },
  {
   "cell_type": "code",
   "execution_count": null,
   "metadata": {},
   "outputs": [],
   "source": [
    "chaeso_mu.fillna(0, inplace=True)\n",
    "chaeso_mu['무싸요'] = chaeso_mu['무'].rank(method='min').astype('int')\n",
    "chaeso_mu['배추싸요'] = chaeso_mu['배추'].rank(method='min').astype('int')\n",
    "chaeso_mu['상추싸요'] = chaeso_mu['상추'].rank(method='min').astype('int')\n",
    "chaeso_mu['양파싸요'] = chaeso_mu['양파'].rank(method='min').astype('int')\n",
    "chaeso_mu['오이싸요'] = chaeso_mu['오이'].rank(method='min').astype('int')\n",
    "\n",
    "chaeso_mu.sort_values('양파싸요')\n"
   ]
  },
  {
   "cell_type": "code",
   "execution_count": null,
   "metadata": {},
   "outputs": [],
   "source": [
    "m = chaeso_mu.무싸요.value_counts()\n",
    "b = chaeso_mu.배추싸요.value_counts()\n",
    "s = chaeso_mu.상추싸요.value_counts()\n",
    "y = chaeso_mu.양파싸요.value_counts()\n",
    "o = chaeso_mu.오이싸요.value_counts()\n",
    "\n",
    "\n",
    "result2 = pd.concat([m, b, s, y ,o], axis=1)\n",
    "result2\n",
    "# 무 3위 두 개, 4위 없음\n",
    "# 배추 1위 두 개, 2위 없음"
   ]
  },
  {
   "cell_type": "code",
   "execution_count": null,
   "metadata": {},
   "outputs": [],
   "source": [
    "district = chaeso_mu['지역구'] == '은평구'\n",
    "\n",
    "district_name = chaeso_mu[district].iloc[0,0]\n",
    "\n",
    "rank = chaeso_mu[district].무싸요.astype(int)\n",
    "rank  # 3 임\n",
    "\n",
    "rank-1\n",
    "# 해당 지역보다 상위 3개 가져오기\n",
    "num1 = chaeso_mu[chaeso_mu['무싸요'] == int(rank-1)][['지역구','무싸요']]\n",
    "num2 = chaeso_mu[chaeso_mu['무싸요'] == int(rank-2)][['지역구','무싸요']]\n",
    "num3 = chaeso_mu[chaeso_mu['무싸요'] == int(rank-3)][['지역구','무싸요']]\n",
    "\n",
    "# 해당 지역보다 하위 3개 가져오기\n",
    "num_1 = chaeso_mu[chaeso_mu['무싸요'] == int(rank+1)][['지역구','무싸요']]\n",
    "num_2 = chaeso_mu[chaeso_mu['무싸요'] == int(rank+2)][['지역구','무싸요']]\n",
    "num_3 = chaeso_mu[chaeso_mu['무싸요'] == int(rank+3)][['지역구','무싸요']]\n",
    "\n",
    "#print('num1 : ', num1,type(num1))\n",
    "#print('num3 : ', num3)\n",
    "\n",
    "# list1 = list([num2, num3])\n",
    "# list1\n",
    "# list11 = pd.DataFrame(list1)\n",
    "# list11\n",
    "\n",
    "\n",
    "for num in (num1, num2, num3, num_1, num_2,num_3) :\n",
    "    if len(num) == 0 :\n",
    "        num = pd.DataFrame({'지역구' : ['nothing'], '무싸요' : ['nothing']})\n",
    "        print(num)\n",
    "result = pd.concat([num1, num2, num3, num_1, num_2, num_3], ignore_index=False).sort_values('무싸요')\n",
    "result"
   ]
  },
  {
   "cell_type": "code",
   "execution_count": null,
   "metadata": {},
   "outputs": [],
   "source": [
    "num = pd.DataFrame({'지역구' : ['nothing'], '무싸요' : ['nothing']})\n",
    "\n",
    "num"
   ]
  },
  {
   "cell_type": "code",
   "execution_count": null,
   "metadata": {},
   "outputs": [],
   "source": [
    "print(result.iloc[0:3,0])\n",
    "print(result.iloc[3:6,0])"
   ]
  },
  {
   "cell_type": "code",
   "execution_count": null,
   "metadata": {},
   "outputs": [],
   "source": [
    "# 상위3 하위3 리스트 만들어주기\n",
    "\n",
    "upperlist = [ result.iloc[0,0],  result.iloc[1,0], result.iloc[2,0]]\n",
    "upperlist = \",\".join(upperlist)\n",
    "lowerlist = [ result.iloc[3,0],  result.iloc[4,0], result.iloc[5,0]]\n",
    "lowerlist = \",\".join(lowerlist)\n",
    "print(upperlist)\n",
    "print(lowerlist)"
   ]
  },
  {
   "cell_type": "code",
   "execution_count": null,
   "metadata": {},
   "outputs": [],
   "source": [
    "# 데이터프레임으로 만들어주기\n",
    "A = pd.DataFrame({ '지역구' : district_name, '싼 지역' : upperlist , '비싼 지역' : lowerlist }, index= [0])\n",
    "A"
   ]
  },
  {
   "cell_type": "code",
   "execution_count": null,
   "metadata": {},
   "outputs": [],
   "source": [
    "\n",
    "chaeso_mu[chaeso_mu['무싸요'] == int(rank-1)][['지역구','무싸요']]"
   ]
  },
  {
   "cell_type": "code",
   "execution_count": null,
   "metadata": {},
   "outputs": [],
   "source": [
    "district = chaeso_mu['지역구'] == '영등포구'\n",
    "rank = chaeso_mu[district].무싸요.astype(int)\n",
    "rank  # 3 임\n",
    "\n",
    "rank-1\n",
    "num1 = chaeso_mu[chaeso_mu['무싸요'] == int(rank-1)]\n",
    "num2 = chaeso_mu[chaeso_mu['무싸요'] == int(rank-2)]\n",
    "num3 = chaeso_mu[chaeso_mu['무싸요'] == int(rank-3)]\n",
    "num_1 = chaeso_mu[chaeso_mu['무싸요'] == int(rank+1)]\n",
    "num_2 = chaeso_mu[chaeso_mu['무싸요'] == int(rank+2)]\n",
    "num_3 = chaeso_mu[chaeso_mu['무싸요'] == int(rank+3)]\n",
    "\n",
    "# print('num1 : ', num1, type(num1))\n",
    "# print('num2 : ', num_2)\n",
    "num1"
   ]
  },
  {
   "cell_type": "code",
   "execution_count": null,
   "metadata": {},
   "outputs": [],
   "source": [
    "result2 = pd.concat([num1,num_2, num_1], ignore_index=True)\n",
    "result2"
   ]
  },
  {
   "cell_type": "code",
   "execution_count": null,
   "metadata": {},
   "outputs": [],
   "source": [
    "district = chaeso_mu['지역구'] == '은평구'\n",
    "\n",
    "district_name = chaeso_mu[district].iloc[0,0]\n",
    "\n",
    "rank = chaeso_mu[district].무싸요.astype(int)\n",
    "rank  # 3 임\n",
    "\n",
    "rank-1\n",
    "# 해당 지역보다 상위 3개 가져오기\n",
    "\n",
    "num1 = chaeso_mu[chaeso_mu['무싸요'] == int(rank-1)][['지역구','무싸요']]\n",
    "if len(num1) == 0:\n",
    "    num1 = pd.DataFrame({'지역구' : ['nothing'], '무싸요' : int(0)})\n",
    "    \n",
    "num2 = chaeso_mu[chaeso_mu['무싸요'] == int(rank-2)][['지역구','무싸요']]\n",
    "if len(num2) == 0:\n",
    "    num1 = pd.DataFrame({'지역구' : ['nothing'], '무싸요' : int(1)})\n",
    "    \n",
    "num3 = chaeso_mu[chaeso_mu['무싸요'] == int(rank-3)][['지역구','무싸요']]\n",
    "if len(num3) == 0:\n",
    "    num3 = pd.DataFrame({'지역구' : ['nothing'], '무싸요' : int(2)})\n",
    "\n",
    "# 해당 지역보다 하위 3개 가져오기\n",
    "num_1 = chaeso_mu[chaeso_mu['무싸요'] == int(rank+1)][['지역구','무싸요']]\n",
    "if len(num_1) == 0:\n",
    "    num_1 = pd.DataFrame({'지역구' : ['nothing'], '무싸요' : int(3) })\n",
    "\n",
    "num_2 = chaeso_mu[chaeso_mu['무싸요'] == int(rank+2)][['지역구','무싸요']]\n",
    "if len(num2) == 0:\n",
    "    num1 = pd.DataFrame({'지역구' : ['nothing'], '무싸요' : int(4)})\n",
    "    \n",
    "num_3 = chaeso_mu[chaeso_mu['무싸요'] == int(rank+3)][['지역구','무싸요']]\n",
    "if len(num3) == 0:\n",
    "    num1 = pd.DataFrame({'지역구' : ['nothing'], '무싸요' : int(5)})\n",
    "    \n",
    "\n",
    "#print('num1 : ', num1,type(num1))\n",
    "#print('num3 : ', num3)\n",
    "\n",
    "# list1 = list([num2, num3])\n",
    "# list1\n",
    "# list11 = pd.DataFrame(list1)\n",
    "# list11\n",
    "\n",
    "\n",
    "# for num in (num1, num2, num3, num_1, num_2,num_3) :\n",
    "#     if len(num) == 0 :\n",
    "#         num = pd.DataFrame({'지역구' : ['nothing'], '무싸요' : ['nothing']})\n",
    "#         print(num)\n",
    "\n",
    "# num_1\n",
    "result = pd.concat([num1, num2, num3, num_1, num_2, num_3], ignore_index=True).sort_values('무싸요')\n",
    "result\n"
   ]
  },
  {
   "cell_type": "markdown",
   "metadata": {},
   "source": [
    "# 재미로 보는 페이지"
   ]
  },
  {
   "cell_type": "code",
   "execution_count": null,
   "metadata": {},
   "outputs": [],
   "source": [
    "# 구글 검색량\n",
    "google = pd.read_excel('./Downloads/googleTrends_소비자5채소모음.xlsx')\n",
    "mu = google['product'] == '무'\n",
    "google_mu = google[mu]\n"
   ]
  },
  {
   "cell_type": "code",
   "execution_count": 1,
   "metadata": {},
   "outputs": [
    {
     "ename": "NameError",
     "evalue": "name 'pd' is not defined",
     "output_type": "error",
     "traceback": [
      "\u001b[1;31m---------------------------------------------------------------------------\u001b[0m",
      "\u001b[1;31mNameError\u001b[0m                                 Traceback (most recent call last)",
      "\u001b[1;32m<ipython-input-1-81c47f452d75>\u001b[0m in \u001b[0;36m<module>\u001b[1;34m\u001b[0m\n\u001b[0;32m      1\u001b[0m \u001b[1;31m# 소비자가\u001b[0m\u001b[1;33m\u001b[0m\u001b[1;33m\u001b[0m\u001b[1;33m\u001b[0m\u001b[0m\n\u001b[1;32m----> 2\u001b[1;33m \u001b[0mchaeso\u001b[0m \u001b[1;33m=\u001b[0m \u001b[0mpd\u001b[0m\u001b[1;33m.\u001b[0m\u001b[0mread_excel\u001b[0m\u001b[1;33m(\u001b[0m\u001b[1;34m'./Downloads/서울전역시장마트데이터(구분포함,23월포함) (7).xlsx'\u001b[0m\u001b[1;33m)\u001b[0m\u001b[1;33m\u001b[0m\u001b[1;33m\u001b[0m\u001b[0m\n\u001b[0m\u001b[0;32m      3\u001b[0m \u001b[0mmu\u001b[0m \u001b[1;33m=\u001b[0m \u001b[0mchaeso\u001b[0m\u001b[1;33m[\u001b[0m\u001b[1;34m'품목'\u001b[0m\u001b[1;33m]\u001b[0m \u001b[1;33m==\u001b[0m \u001b[1;34m'무'\u001b[0m\u001b[1;33m\u001b[0m\u001b[1;33m\u001b[0m\u001b[0m\n",
      "\u001b[1;31mNameError\u001b[0m: name 'pd' is not defined"
     ]
    }
   ],
   "source": [
    "# 소비자가\n",
    "chaeso = pd.read_excel('./Downloads/서울전역시장마트데이터(구분포함,23월포함) (7).xlsx')\n",
    "mu = chaeso['품목'] == '무'\n"
   ]
  },
  {
   "cell_type": "code",
   "execution_count": null,
   "metadata": {},
   "outputs": [],
   "source": [
    "chaeso_mu = chaeso[mu]\n",
    "chaeso_mu = chaeso_mu[['조사일','가격']]\n",
    "chaeso_mu"
   ]
  },
  {
   "cell_type": "code",
   "execution_count": null,
   "metadata": {},
   "outputs": [],
   "source": [
    "priceby = pd.read_excel('./Downloads/서울전역채소열별평균가격.xlsx')\n",
    "priceby['조사일']=pd.to_datetime(priceby['조사일'].astype(str), format='%Y-%m-%d')\n",
    "priceby"
   ]
  },
  {
   "cell_type": "code",
   "execution_count": null,
   "metadata": {},
   "outputs": [],
   "source": [
    "googleTrends = pd.read_excel('./Downloads/googleTrends_5채소열별로.xlsx')\n",
    "googleTrends['조사일']=pd.to_datetime(googleTrends['조사일'].astype(str), format='%Y%m%d')\n",
    "googleTrends"
   ]
  },
  {
   "cell_type": "code",
   "execution_count": null,
   "metadata": {},
   "outputs": [],
   "source": [
    "merge_google = pd.merge(priceby,googleTrends, on='조사일' )\n",
    "merge_google"
   ]
  },
  {
   "cell_type": "code",
   "execution_count": null,
   "metadata": {},
   "outputs": [],
   "source": [
    "merge_google_drop = merge_google.drop(['조사일','요일'],axis=1)\n",
    "merge_google_drop"
   ]
  },
  {
   "cell_type": "code",
   "execution_count": null,
   "metadata": {},
   "outputs": [],
   "source": [
    "import seaborn as sb\n",
    "import matplotlib.pyplot as plt\n",
    "\n",
    "import platform\n",
    "\n",
    "from matplotlib import font_manager, rc\n",
    "# plt.rcParams['axes.unicode_minus'] = False\n",
    "\n",
    "if platform.system() == 'Darwin':\n",
    "    rc('font', family='AppleGothic')\n",
    "elif platform.system() == 'Windows':\n",
    "    path = \"c:/Windows/Fonts/malgun.ttf\"\n",
    "    font_name = font_manager.FontProperties(fname=path).get_name()\n",
    "    rc('font', family=font_name)\n",
    "else:\n",
    "    print('Unknown system... sorry~~~~') \n",
    "\n",
    "    \n",
    "\n",
    "plt.rcParams[\"figure.figsize\"] = (10,8)\n",
    "sb.heatmap(merge_google_drop.corr(),\n",
    "           annot = True, #실제 값 화면에 나타내기\n",
    "           cmap = 'Greens', #색상\n",
    "           vmin = -1, vmax=1 , #컬러차트 영역 -1 ~ +1\n",
    "          )"
   ]
  },
  {
   "cell_type": "markdown",
   "metadata": {},
   "source": [
    "# 백종원과 채소 가격 (o/x)"
   ]
  },
  {
   "cell_type": "code",
   "execution_count": null,
   "metadata": {},
   "outputs": [],
   "source": [
    "baek = pd.read_excel('./Downloads/백종원 시청률 통합_2015_2020.xlsx')\n",
    "baek.rename({'일자' : '조사일'}, axis='columns', inplace=True)\n",
    "baek"
   ]
  },
  {
   "cell_type": "code",
   "execution_count": null,
   "metadata": {},
   "outputs": [],
   "source": [
    "baek_priceby_merge = pd.merge(baek, priceby, on='조사일',how='right')\n",
    "baek_priceby_merge.dropna(inplace=True)"
   ]
  },
  {
   "cell_type": "code",
   "execution_count": null,
   "metadata": {},
   "outputs": [],
   "source": [
    "baek_priceby_merge.drop(['조사일','프로그램'],axis=1, inplace=True)\n",
    "baek_priceby_merge"
   ]
  },
  {
   "cell_type": "code",
   "execution_count": null,
   "metadata": {},
   "outputs": [],
   "source": [
    "plt.rcParams[\"figure.figsize\"] = (10,8)\n",
    "sb.heatmap(baek_priceby_merge.corr(),\n",
    "           annot = True, #실제 값 화면에 나타내기\n",
    "           cmap = 'Greens', #색상\n",
    "           vmin = -1, vmax=1 , #컬러차트 영역 -1 ~ +1\n",
    "          )"
   ]
  },
  {
   "cell_type": "markdown",
   "metadata": {},
   "source": [
    "# 각 프로그램과 각 채소 가격"
   ]
  },
  {
   "cell_type": "code",
   "execution_count": null,
   "metadata": {},
   "outputs": [],
   "source": [
    "baek_nodate = pd.read_excel('./Downloads/백종원 시청률_조사일제외.xlsx')\n",
    "baek_nodate"
   ]
  },
  {
   "cell_type": "code",
   "execution_count": null,
   "metadata": {},
   "outputs": [],
   "source": [
    "# 시청률 & 무\n",
    "priceby_mu = priceby['무_가격']\n",
    "mu_df = pd.concat([priceby_mu, baek_nodate], axis=1)"
   ]
  },
  {
   "cell_type": "code",
   "execution_count": null,
   "metadata": {},
   "outputs": [],
   "source": [
    "import matplotlib\n",
    "matplotlib.rcParams['axes.unicode_minus'] = False\n",
    "\n",
    "plt.rcParams[\"figure.figsize\"] = (8,5)\n",
    "sb.heatmap(mu_df.corr(),\n",
    "           annot = True, #실제 값 화면에 나타내기\n",
    "           cmap = 'PiYG', #색상\n",
    "           vmin = -1, vmax=1 , #컬러차트 영역 -1 ~ +1\n",
    "           annot_kws={\"size\": 20}\n",
    "          )\n",
    "plt.rc('xtick', labelsize=8)\n",
    "plt.rc('ytick', labelsize=9)\n",
    "plt.title(\"백종원이 출연한 TV 프로그램 시청률과 무의 상관관계\")\n",
    "plt.rc('figure', titlesize=20)"
   ]
  },
  {
   "cell_type": "code",
   "execution_count": null,
   "metadata": {},
   "outputs": [],
   "source": [
    "# 시청률 & 배추\n",
    "priceby_mu = priceby['배추_가격']\n",
    "mu_df = pd.concat([priceby_mu, baek_nodate], axis=1)\n",
    "\n",
    "\n",
    "\n",
    "import matplotlib\n",
    "matplotlib.rcParams['axes.unicode_minus'] = False\n",
    "\n",
    "plt.rcParams[\"figure.figsize\"] = (8,5)\n",
    "sb.heatmap(mu_df.corr(),\n",
    "           annot = True, #실제 값 화면에 나타내기\n",
    "           cmap = 'RdYlGn', #색상\n",
    "           vmin = -1, vmax=1 , #컬러차트 영역 -1 ~ +1\n",
    "           annot_kws={\"size\": 20}\n",
    "          )\n",
    "plt.rc('xtick', labelsize=8)\n",
    "plt.rc('ytick', labelsize=9)\n",
    "plt.title(\"백종원이 출연한 TV 프로그램 시청률과 배추의 상관관계\")\n",
    "plt.rc('figure', titlesize=20)"
   ]
  },
  {
   "cell_type": "code",
   "execution_count": null,
   "metadata": {},
   "outputs": [],
   "source": [
    "# 시청률 & 양파\n",
    "priceby_mu = priceby['양파_가격']\n",
    "mu_df = pd.concat([priceby_mu, baek_nodate], axis=1)\n",
    "\n",
    "\n",
    "\n",
    "import matplotlib\n",
    "matplotlib.rcParams['axes.unicode_minus'] = False\n",
    "\n",
    "plt.rcParams[\"figure.figsize\"] = (8,5)\n",
    "sb.heatmap(mu_df.corr(),\n",
    "           annot = True, #실제 값 화면에 나타내기\n",
    "           cmap = 'Spectral', #색상\n",
    "           vmin = -1, vmax=1 , #컬러차트 영역 -1 ~ +1\n",
    "           annot_kws={\"size\": 20}\n",
    "          )\n",
    "plt.rc('xtick', labelsize=8)\n",
    "plt.rc('ytick', labelsize=9)\n",
    "plt.title(\"백종원이 출연한 TV 프로그램 시청률과 양파의 상관관계\")\n",
    "plt.rc('figure', titlesize=20)"
   ]
  },
  {
   "cell_type": "code",
   "execution_count": null,
   "metadata": {},
   "outputs": [],
   "source": [
    "# 시청률 & 상추\n",
    "priceby_mu = priceby['상추_가격']\n",
    "mu_df = pd.concat([priceby_mu, baek_nodate], axis=1)\n",
    "\n",
    "\n",
    "\n",
    "import matplotlib\n",
    "matplotlib.rcParams['axes.unicode_minus'] = False\n",
    "\n",
    "plt.rcParams[\"figure.figsize\"] = (8,5)\n",
    "sb.heatmap(mu_df.corr(),\n",
    "           annot = True, #실제 값 화면에 나타내기\n",
    "           cmap = 'PRGn', #색상\n",
    "           vmin = -1, vmax=1 , #컬러차트 영역 -1 ~ +1\n",
    "           annot_kws={\"size\": 20}\n",
    "          )\n",
    "plt.rc('xtick', labelsize=8)\n",
    "plt.rc('ytick', labelsize=9)\n",
    "plt.title(\"백종원이 출연한 TV 프로그램 시청률과 상추의 상관관계\")\n",
    "plt.rc('figure', titlesize=20)"
   ]
  },
  {
   "cell_type": "code",
   "execution_count": null,
   "metadata": {},
   "outputs": [],
   "source": [
    "# 시청률 & 오이\n",
    "priceby_mu = priceby['오이_가격']\n",
    "mu_df = pd.concat([priceby_mu, baek_nodate], axis=1)\n",
    "\n",
    "\n",
    "\n",
    "import matplotlib\n",
    "matplotlib.rcParams['axes.unicode_minus'] = False\n",
    "\n",
    "plt.rcParams[\"figure.figsize\"] = (8,5)\n",
    "sb.heatmap(mu_df.corr(),\n",
    "           annot = True, #실제 값 화면에 나타내기\n",
    "           cmap = 'Greens'  , #색상tab20b\n",
    "           vmin = -1, vmax=1 , #컬러차트 영역 -1 ~ +1\n",
    "           annot_kws={\"size\": 20}\n",
    "          )\n",
    "plt.rc('xtick', labelsize=8)\n",
    "plt.rc('ytick', labelsize=9)\n",
    "plt.title(\"백종원이 출연한 TV 프로그램 시청률과 오이의 상관관계\")\n",
    "plt.rc('figure', titlesize=20)"
   ]
  },
  {
   "cell_type": "markdown",
   "metadata": {},
   "source": [
    "# 각 프로그램 검색량과 채소 가격"
   ]
  },
  {
   "cell_type": "code",
   "execution_count": null,
   "metadata": {},
   "outputs": [],
   "source": [
    "google = pd.read_excel('./Downloads/googleTrends_5채소열별로.xlsx')\n",
    "google['조사일']=pd.to_datetime(google['조사일'].astype(str), format='%Y%m%d')"
   ]
  },
  {
   "cell_type": "code",
   "execution_count": null,
   "metadata": {},
   "outputs": [],
   "source": [
    "google.rename({'무' : '무_검색량',\n",
    "              '배추' : '배추_검색량',\n",
    "              '상추' : '상추_검색량',\n",
    "              '양파' : '양파_검색량',\n",
    "              '오이' : '오이_검색량'}, axis= 'columns', inplace=True)"
   ]
  },
  {
   "cell_type": "code",
   "execution_count": 2,
   "metadata": {},
   "outputs": [
    {
     "ename": "NameError",
     "evalue": "name 'google' is not defined",
     "output_type": "error",
     "traceback": [
      "\u001b[1;31m---------------------------------------------------------------------------\u001b[0m",
      "\u001b[1;31mNameError\u001b[0m                                 Traceback (most recent call last)",
      "\u001b[1;32m<ipython-input-2-d662cc72cfed>\u001b[0m in \u001b[0;36m<module>\u001b[1;34m\u001b[0m\n\u001b[1;32m----> 1\u001b[1;33m \u001b[0mgoogle\u001b[0m\u001b[1;33m\u001b[0m\u001b[1;33m\u001b[0m\u001b[0m\n\u001b[0m",
      "\u001b[1;31mNameError\u001b[0m: name 'google' is not defined"
     ]
    }
   ],
   "source": [
    "google"
   ]
  },
  {
   "cell_type": "code",
   "execution_count": null,
   "metadata": {},
   "outputs": [],
   "source": [
    "google_priceby_merge = pd.merge(google,priceby, on='조사일', how='right')\n",
    "google_priceby_merge.drop('조사일',axis=1, inplace=True)\n",
    "google_priceby_merge"
   ]
  },
  {
   "cell_type": "code",
   "execution_count": null,
   "metadata": {},
   "outputs": [],
   "source": [
    "plt.rcParams[\"figure.figsize\"] = (10,8)\n",
    "sb.heatmap(google_priceby_merge.corr(),\n",
    "           annot = True, #실제 값 화면에 나타내기\n",
    "           cmap = 'Greens', #색상\n",
    "           vmin = -1, vmax=1 , #컬러차트 영역 -1 ~ +1\n",
    "          )"
   ]
  },
  {
   "cell_type": "markdown",
   "metadata": {},
   "source": [
    "# 주식과 채소가격"
   ]
  },
  {
   "cell_type": "code",
   "execution_count": null,
   "metadata": {},
   "outputs": [],
   "source": [
    "# 주식 상승과 채소가격 추이 살펴보기\n",
    "wooribio = pd.read_excel('./Downloads/wooribio_df.xlsx')\n",
    "nongwoo= pd.read_excel('./Downloads/nongwoo_df.xlsx')\n",
    "kynong= pd.read_excel('./Downloads/kynong_df.xlsx')\n",
    "namhae= pd.read_excel('./Downloads/namhae_2.xlsx')\n",
    "jobi= pd.read_excel('./Downloads/jobi.xlsx')\n",
    "greenplus= pd.read_excel('./Downloads/greenplus_2.xlsx')\n",
    "dongyang= pd.read_excel('./Downloads/dongyang_2.xlsx')\n",
    "dongbang= pd.read_excel('./Downloads/dongbang_2.xlsx')\n",
    "asiajongmyo= pd.read_excel('./Downloads/asiajongmyo_2.xlsx')\n",
    "asiatech= pd.read_excel('./Downloads/asiatech.xlsx')\n"
   ]
  },
  {
   "cell_type": "code",
   "execution_count": null,
   "metadata": {},
   "outputs": [],
   "source": [
    "wooribio['wooribio_종가'] = wooribio['종가']\n",
    "nongwoo['nongwoo_종가'] = nongwoo['종가']\n",
    "kynong['kynong_종가'] = kynong['종가']\n",
    "namhae['namhae_종가'] = namhae['종가']\n",
    "jobi['jobi_종가'] = jobi['종가']\n",
    "greenplus['greenplus_종가'] = greenplus['종가']\n",
    "dongyang['dongyang_종가'] = dongyang['종가']\n",
    "dongbang['dongbang_종가'] = dongbang['종가']\n",
    "asiajongmyo['asiajongmyo_종가'] = asiajongmyo['종가']\n",
    "asiatech['asiatech_종가'] = asiatech['종가']"
   ]
  },
  {
   "cell_type": "code",
   "execution_count": null,
   "metadata": {},
   "outputs": [],
   "source": [
    "wooribio.set_index('일자')\n",
    "nongwoo.set_index('일자')\n",
    "kynong.set_index('일자')\n",
    "namhae.set_index('일자')\n",
    "jobi.set_index('일자')\n",
    "greenplus.set_index('일자')\n",
    "dongyang.set_index('일자')\n",
    "dongbang.set_index('일자')\n",
    "asiajongmyo.set_index('일자')\n",
    "asiatech.set_index('일자')\n",
    "\n"
   ]
  },
  {
   "cell_type": "code",
   "execution_count": null,
   "metadata": {},
   "outputs": [],
   "source": [
    "result = pd.concat([wooribio, nongwoo,kynong, namhae, jobi, greenplus, dongyang, dongbang, asiajongmyo, asiatech], axis=1, sort=False)\n",
    "result_drop = result.dropna(axis=0, how='any')"
   ]
  },
  {
   "cell_type": "code",
   "execution_count": null,
   "metadata": {},
   "outputs": [],
   "source": [
    "stock_result = result_drop[['wooribio_종가','nongwoo_종가','kynong_종가','namhae_종가','jobi_종가',\n",
    "             'greenplus_종가','dongyang_종가','dongbang_종가','asiajongmyo_종가','asiatech_종가']]\n",
    "stock_result"
   ]
  },
  {
   "cell_type": "code",
   "execution_count": null,
   "metadata": {},
   "outputs": [],
   "source": [
    "mu = chaeso['품목'] =='무'\n",
    "chaeso_mu = chaeso[mu]\n",
    "chaeso_mu = chaeso_mu[['가격']].rename({'가격' : '무_가격'}, axis= 'columns').reset_index()\n",
    "chaeso_mu\n",
    "\n",
    "baechu = chaeso['품목'] =='배추'\n",
    "chaeso_baechu = chaeso[baechu]\n",
    "chaeso_baechu = chaeso_baechu[['가격']].rename({'가격' : '배추_가격'}, axis= 'columns').reset_index()\n",
    "chaeso_baechu\n",
    "\n",
    "yp = chaeso['품목'] =='양파'\n",
    "chaeso_yp = chaeso[yp]\n",
    "chaeso_yp = chaeso_yp[['가격']].rename({'가격' : '양파_가격'}, axis= 'columns').reset_index()\n",
    "chaeso_yp\n",
    "\n",
    "sc = chaeso['품목'] =='상추'\n",
    "chaeso_sc = chaeso[sc]\n",
    "chaeso_sc = chaeso_sc[['가격']].rename({'가격' : '상추_가격'}, axis= 'columns').reset_index()\n",
    "chaeso_sc\n",
    "\n",
    "oi = chaeso['품목'] =='오이'\n",
    "chaeso_oi = chaeso[oi]\n",
    "chaeso_oi = chaeso_oi[['가격']].rename({'가격' : '오이_가격'}, axis= 'columns').reset_index()\n",
    "chaeso_oi"
   ]
  },
  {
   "cell_type": "code",
   "execution_count": null,
   "metadata": {},
   "outputs": [],
   "source": [
    "chaeso.품목.unique()"
   ]
  },
  {
   "cell_type": "code",
   "execution_count": null,
   "metadata": {},
   "outputs": [],
   "source": [
    "price_result = pd.concat([chaeso_mu, chaeso_baechu, chaeso_yp, chaeso_sc, chaeso_oi], axis=1, sort=False)\n",
    "price_result\n",
    "\n",
    "# result_drop = price_result.dropna(axis=0, how='any')"
   ]
  },
  {
   "cell_type": "code",
   "execution_count": null,
   "metadata": {},
   "outputs": [],
   "source": [
    "price_result_drop = price_result.dropna(axis=0,how='any')\n",
    "price_result_drop = price_result_drop[['무_가격','배추_가격','양파_가격','상추_가격','오이_가격']]\n",
    "price_result_drop"
   ]
  },
  {
   "cell_type": "code",
   "execution_count": null,
   "metadata": {},
   "outputs": [],
   "source": [
    "# 주식 result_drop 에다가 시장가격 합치기...\n",
    "stock_price_merge = pd.concat([stock_result, price_result_drop],axis=1, sort=False)\n",
    "stock_price_merge"
   ]
  },
  {
   "cell_type": "code",
   "execution_count": null,
   "metadata": {},
   "outputs": [],
   "source": [
    "plt.rcParams[\"figure.figsize\"] = (15,10)\n",
    "sb.heatmap(stock_price_merge.corr(),\n",
    "           annot = True, #실제 값 화면에 나타내기\n",
    "           cmap = 'Greens', #색상\n",
    "           vmin = -1, vmax=1 , #컬러차트 영역 -1 ~ +1\n",
    "          )"
   ]
  },
  {
   "cell_type": "markdown",
   "metadata": {},
   "source": [
    "# 구글 검색량 구간 나눠서 구간별로 평균 가격이 얼마인지 나타내기"
   ]
  },
  {
   "cell_type": "code",
   "execution_count": null,
   "metadata": {},
   "outputs": [],
   "source": [
    "google_priceby_merge = pd.merge(google,priceby, on='조사일', how='right')\n",
    "google_priceby_merge.drop('조사일',axis=1, inplace=True)"
   ]
  },
  {
   "cell_type": "code",
   "execution_count": null,
   "metadata": {},
   "outputs": [],
   "source": [
    "google_priceby_merge"
   ]
  },
  {
   "cell_type": "code",
   "execution_count": null,
   "metadata": {},
   "outputs": [],
   "source": [
    "print(google_priceby_merge.무_검색량.min())\n",
    "print(google_priceby_merge.무_검색량.max())"
   ]
  },
  {
   "cell_type": "code",
   "execution_count": null,
   "metadata": {},
   "outputs": [],
   "source": [
    "print(google_priceby_merge.배추_검색량.min())\n",
    "print(google_priceby_merge.배추_검색량.max())"
   ]
  },
  {
   "cell_type": "code",
   "execution_count": null,
   "metadata": {},
   "outputs": [],
   "source": [
    "print(google_priceby_merge.상추_검색량.min())\n",
    "print(google_priceby_merge.상추_검색량.max())"
   ]
  },
  {
   "cell_type": "code",
   "execution_count": null,
   "metadata": {},
   "outputs": [],
   "source": [
    "print(google_priceby_merge.양파_검색량.min())\n",
    "print(google_priceby_merge.양파_검색량.max())"
   ]
  },
  {
   "cell_type": "code",
   "execution_count": null,
   "metadata": {},
   "outputs": [],
   "source": [
    "print(google_priceby_merge.오이_검색량.min())\n",
    "print(google_priceby_merge.오이_검색량.max())"
   ]
  },
  {
   "cell_type": "code",
   "execution_count": null,
   "metadata": {},
   "outputs": [],
   "source": [
    "# 무 검색범주 추가\n",
    "\n",
    "mu_category = []\n",
    "\n",
    "for x in google_priceby_merge['무_검색량'] :\n",
    "    if x < 51 :\n",
    "        mu_category.append(np.nan)\n",
    "    elif x < 61 :\n",
    "        mu_category.append('51~60')\n",
    "    elif x < 71 :\n",
    "        mu_category.append('61~70')\n",
    "    elif x < 81 :\n",
    "        mu_category.append('71~80')\n",
    "    elif x < 91 :\n",
    "        mu_category.append('81~90')\n",
    "    else:\n",
    "        mu_category.append('91~100')\n",
    "\n",
    "google_priceby_merge['무_검색범주'] = mu_category"
   ]
  },
  {
   "cell_type": "code",
   "execution_count": null,
   "metadata": {},
   "outputs": [],
   "source": [
    "google_priceby_merge"
   ]
  },
  {
   "cell_type": "code",
   "execution_count": null,
   "metadata": {},
   "outputs": [],
   "source": [
    "# 배추 검색범주 추가\n",
    "\n",
    "baechu_category = []\n",
    "\n",
    "for x in google_priceby_merge['배추_검색량'] :\n",
    "    if x < 51 :\n",
    "        baechu_category.append(np.nan)\n",
    "    elif x < 61 :\n",
    "        baechu_category.append('51~60')\n",
    "    elif x < 71 :\n",
    "        baechu_category.append('61~70')\n",
    "    elif x < 81 :\n",
    "        baechu_category.append('71~80')\n",
    "    elif x < 91 :\n",
    "        baechu_category.append('81~90')\n",
    "    else:\n",
    "        baechu_category.append('91~100')\n",
    "\n",
    "google_priceby_merge['배추_검색범주'] = baechu_category"
   ]
  },
  {
   "cell_type": "code",
   "execution_count": null,
   "metadata": {},
   "outputs": [],
   "source": [
    "# 양파 검색범주 추가\n",
    "\n",
    "yp_category = []\n",
    "\n",
    "for x in google_priceby_merge['양파_검색량'] :\n",
    "    if x < 51 :\n",
    "        yp_category.append(np.nan)\n",
    "    elif x < 61 :\n",
    "        yp_category.append('51~60')\n",
    "    elif x < 71 :\n",
    "        yp_category.append('61~70')\n",
    "    elif x < 81 :\n",
    "        yp_category.append('71~80')\n",
    "    elif x < 91 :\n",
    "        yp_category.append('81~90')\n",
    "    else:\n",
    "        yp_category.append('91~100')\n",
    "\n",
    "google_priceby_merge['양파_검색범주'] = yp_category"
   ]
  },
  {
   "cell_type": "code",
   "execution_count": null,
   "metadata": {},
   "outputs": [],
   "source": [
    "# 상추 검색범주 추가\n",
    "\n",
    "sc_category = []\n",
    "\n",
    "for x in google_priceby_merge['상추_검색량'] :\n",
    "    if x < 51 :\n",
    "        sc_category.append(np.nan)\n",
    "    elif x < 61 :\n",
    "        sc_category.append('51~60')\n",
    "    elif x < 71 :\n",
    "        sc_category.append('61~70')\n",
    "    elif x < 81 :\n",
    "        sc_category.append('71~80')\n",
    "    elif x < 91 :\n",
    "        sc_category.append('81~90')\n",
    "    else:\n",
    "        sc_category.append('91~100')\n",
    "\n",
    "google_priceby_merge['상추_검색범주'] = sc_category"
   ]
  },
  {
   "cell_type": "code",
   "execution_count": null,
   "metadata": {},
   "outputs": [],
   "source": [
    "# 오이 검색범주 추가\n",
    "\n",
    "oi_category = []\n",
    "\n",
    "for x in google_priceby_merge['오이_검색량'] :\n",
    "    if x < 51 :\n",
    "        oi_category.append(np.nan)\n",
    "    elif x < 61 :\n",
    "        oi_category.append('51~60')\n",
    "    elif x < 71 :\n",
    "        oi_category.append('61~70')\n",
    "    elif x < 81 :\n",
    "        oi_category.append('71~80')\n",
    "    elif x < 91 :\n",
    "        oi_category.append('81~90')\n",
    "    else:\n",
    "        oi_category.append('91~100')\n",
    "\n",
    "google_priceby_merge['오이_검색범주'] = oi_category"
   ]
  },
  {
   "cell_type": "code",
   "execution_count": null,
   "metadata": {},
   "outputs": [],
   "source": [
    "google_priceby_merge"
   ]
  },
  {
   "cell_type": "code",
   "execution_count": null,
   "metadata": {},
   "outputs": [],
   "source": [
    "검색범주_가격 = google_priceby_merge[['무_가격','배추_가격','상추_가격','양파_가격','오이_가격','무_검색범주']].groupby('무_검색범주').mean().astype('int64')\n",
    "검색범주_가격.to_excel('./Downloads/검색범주_가격.xlsx')"
   ]
  },
  {
   "cell_type": "code",
   "execution_count": null,
   "metadata": {},
   "outputs": [],
   "source": [
    "plt.plot(검색범주_가격.index, 검색범주_가격.무_가격)\n",
    "plt.plot(검색범주_가격.index, 검색범주_가격.배추_가격)\n",
    "plt.plot(검색범주_가격.index, 검색범주_가격.상추_가격)\n",
    "plt.plot(검색범주_가격.index, 검색범주_가격.양파_가격)\n",
    "plt.plot(검색범주_가격.index, 검색범주_가격.오이_가격)\n",
    "plt.legend(['무','배추','상추','양파','오이'])\n",
    "plt.xlabel('검색량 범주')\n",
    "plt.ylabel('채소 가격')"
   ]
  },
  {
   "cell_type": "markdown",
   "metadata": {},
   "source": [
    "# 소비자 EDA"
   ]
  },
  {
   "cell_type": "code",
   "execution_count": null,
   "metadata": {},
   "outputs": [],
   "source": [
    "consumer = pd.read_excel('./Downloads/서울전역시장마트데이터(월평균값결측치대체for 그래프).xlsx')\n",
    "consumer"
   ]
  },
  {
   "cell_type": "code",
   "execution_count": null,
   "metadata": {},
   "outputs": [],
   "source": [
    "consumer_mu = consumer['품목'] == '무'\n",
    "mu = consumer[consumer_mu]\n",
    "mu\n",
    "\n",
    "consumer_bc = consumer['품목'] == '배추'\n",
    "bc = consumer[consumer_bc]\n",
    "bc\n",
    "bc_group = pd.DataFrame(bc.groupby(['지역구', '구분']).mean().unstack('구분'))\n",
    "bc_group.reset_index(inplace=True)\n",
    "bc_지역구 = list(bc_group.지역구)\n",
    "bc_마트 = list(bc_group.가격.마트)\n",
    "bc_시장 = list(bc_group.가격.시장)\n",
    "bc_group\n",
    "\n",
    "market = []\n",
    "for i in bc_시장 :\n",
    "    market.append(i*-1)\n",
    "    \n",
    "market"
   ]
  },
  {
   "cell_type": "code",
   "execution_count": null,
   "metadata": {},
   "outputs": [],
   "source": [
    "consumer_mu = consumer['품목'] == '무'\n",
    "mu = consumer[consumer_mu]\n",
    "mu\n",
    "\n",
    "mu_group = pd.DataFrame(mu.groupby(['지역구', '구분']).mean().unstack('구분'))\n",
    "mu_group.reset_index(inplace=True)\n",
    "mu_지역구 = list(mu_group.지역구)\n",
    "mu_마트 = list(mu_group.가격.마트)\n",
    "mu_시장 = list(mu_group.가격.시장)\n",
    "mu_group\n",
    "\n",
    "market = []\n",
    "for i in mu_시장 :\n",
    "    market.append(i*-1)\n",
    "    \n",
    "market\n",
    "\n",
    "\n",
    "\n",
    "df = pd.DataFrame({ 'district' : mu_지역구,\n",
    "                  'mart' : mu_마트,\n",
    "                  'market' : market})\n",
    "df.fillna(0, inplace=True)\n",
    "\n",
    "fig = plt.figure(figsize=(8, 8))\n",
    "\n",
    "plt.rcParams['axes.unicode_minus']=False\n",
    "\n",
    "plt.title(\"지역별 무 가격\")\n",
    "plt.xlabel(\"무 가격\")\n",
    "plt.ylabel(\"지역구\")\n",
    "plt.barh(df.district, df.mart, label='마트')\n",
    "plt.barh(df.district, df.market, label='시장')\n",
    "plt.legend()\n",
    "plt.show()"
   ]
  },
  {
   "cell_type": "code",
   "execution_count": null,
   "metadata": {},
   "outputs": [],
   "source": [
    "df = pd.DataFrame({ 'district' : bc_지역구,\n",
    "                  'mart' : bc_마트,\n",
    "                  'market' : market})\n",
    "df.fillna(0, inplace=True)\n",
    "\n",
    "fig = plt.figure(figsize=(8, 8))\n",
    "\n",
    "plt.rcParams['axes.unicode_minus']=False\n",
    "\n",
    "plt.title(\"지역별 배추 가격\")\n",
    "plt.xlabel(\"배추 가격\")\n",
    "plt.ylabel(\"지역구\")\n",
    "plt.barh(df.district, df.mart, label='마트')\n",
    "plt.barh(df.district, df.market, label='시장')\n",
    "plt.legend()\n",
    "plt.show()"
   ]
  },
  {
   "cell_type": "code",
   "execution_count": null,
   "metadata": {},
   "outputs": [],
   "source": [
    "# 한글 폰트 문제 해결\n",
    "import platform\n",
    "\n",
    "from matplotlib import font_manager, rc\n",
    "# plt.rcParams['axes.unicode_minus'] = False\n",
    "\n",
    "if platform.system() == 'Darwin':\n",
    "    rc('font', family='AppleGothic')\n",
    "elif platform.system() == 'Windows':\n",
    "    path = \"c:/Windows/Fonts/malgun.ttf\"\n",
    "    font_name = font_manager.FontProperties(fname=path).get_name()\n",
    "    rc('font', family=font_name)\n",
    "else:\n",
    "    print('Unknown system... sorry~~~~') \n",
    "    \n",
    "bar_plot = sns.barplot(x=mu_group.가격.마트, y=mu_group.지역구 , data=mu_group_index, order=district )\n",
    "\n",
    "bar_plot = sns.barplot(x=mu_group.가격.시장, y=mu_group.지역구 , data=mu_group_index, order=district )\n",
    "\n",
    "bar_plot.set(xlabel=\"Population (hundreds of millions)\", ylabel=district , title = \"Population Pyramid\")"
   ]
  },
  {
   "cell_type": "code",
   "execution_count": null,
   "metadata": {},
   "outputs": [],
   "source": []
  },
  {
   "cell_type": "code",
   "execution_count": null,
   "metadata": {},
   "outputs": [],
   "source": []
  },
  {
   "cell_type": "code",
   "execution_count": null,
   "metadata": {},
   "outputs": [],
   "source": []
  },
  {
   "cell_type": "code",
   "execution_count": null,
   "metadata": {},
   "outputs": [],
   "source": []
  },
  {
   "cell_type": "code",
   "execution_count": null,
   "metadata": {},
   "outputs": [],
   "source": []
  },
  {
   "cell_type": "code",
   "execution_count": null,
   "metadata": {},
   "outputs": [],
   "source": []
  },
  {
   "cell_type": "code",
   "execution_count": null,
   "metadata": {},
   "outputs": [],
   "source": []
  },
  {
   "cell_type": "code",
   "execution_count": null,
   "metadata": {},
   "outputs": [],
   "source": []
  },
  {
   "cell_type": "code",
   "execution_count": null,
   "metadata": {},
   "outputs": [],
   "source": []
  },
  {
   "cell_type": "code",
   "execution_count": null,
   "metadata": {},
   "outputs": [],
   "source": []
  },
  {
   "cell_type": "code",
   "execution_count": null,
   "metadata": {},
   "outputs": [],
   "source": []
  },
  {
   "cell_type": "code",
   "execution_count": null,
   "metadata": {},
   "outputs": [],
   "source": []
  },
  {
   "cell_type": "code",
   "execution_count": null,
   "metadata": {},
   "outputs": [],
   "source": []
  }
 ],
 "metadata": {
  "kernelspec": {
   "display_name": "Python 3",
   "language": "python",
   "name": "python3"
  },
  "language_info": {
   "codemirror_mode": {
    "name": "ipython",
    "version": 3
   },
   "file_extension": ".py",
   "mimetype": "text/x-python",
   "name": "python",
   "nbconvert_exporter": "python",
   "pygments_lexer": "ipython3",
   "version": "3.8.3"
  }
 },
 "nbformat": 4,
 "nbformat_minor": 4
}
